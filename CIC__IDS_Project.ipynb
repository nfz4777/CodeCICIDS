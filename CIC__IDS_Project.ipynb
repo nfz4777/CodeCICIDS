{
 "cells": [
  {
   "cell_type": "code",
   "execution_count": 1,
   "id": "b5f54a51",
   "metadata": {},
   "outputs": [],
   "source": [
    "import pandas as pd\n",
    "import matplotlib.pyplot as plt\n",
    "import seaborn as sns\n",
    "import itertools\n",
    "import random\n",
    "import numpy as np\n",
    "\n",
    "# processing imports\n",
    "from sklearn.preprocessing import LabelEncoder\n",
    "from sklearn.model_selection import train_test_split,StratifiedKFold,GridSearchCV\n",
    "from sklearn.model_selection import GridSearchCV,RandomizedSearchCV\n",
    "from sklearn.model_selection import cross_val_score\n",
    "from sklearn.metrics import mean_absolute_error\n",
    "from sklearn.metrics import accuracy_score\n",
    "from sklearn.metrics import confusion_matrix\n",
    "\n",
    "from joblib import dump, load\n",
    "from sklearn.metrics import accuracy_score, f1_score, precision_score,recall_score\n",
    "from sklearn.linear_model import Perceptron\n",
    "from sklearn.linear_model import LogisticRegression\n",
    "from sklearn.neural_network import MLPClassifier\n",
    "from sklearn.tree import DecisionTreeClassifier\n",
    "from sklearn.ensemble import RandomForestClassifier, VotingClassifier\n",
    "from sklearn.ensemble import BaggingClassifier\n",
    "from sklearn.ensemble import AdaBoostClassifier\n",
    "from sklearn.svm import SVC\n",
    "from sklearn.ensemble import StackingClassifier\n",
    "\n",
    "\n",
    "from sklearn import svm, datasets\n",
    "from sklearn.model_selection import train_test_split\n",
    "from sklearn.utils.multiclass import unique_labels\n",
    "from sklearn.metrics import roc_curve, auc\n",
    "from sklearn.model_selection import train_test_split\n",
    "from sklearn.preprocessing import label_binarize\n",
    "from sklearn.multiclass import OneVsRestClassifier\n",
    "from scipy import interp\n",
    "from itertools import cycle\n",
    "import seaborn as sns\n",
    "from sklearn.datasets import make_classification\n",
    "from sklearn.neighbors import KNeighborsClassifier\n",
    "from sklearn.ensemble import RandomForestClassifier\n",
    "from sklearn.metrics import roc_curve\n",
    "from sklearn.metrics import roc_auc_score\n",
    "import sklearn.metrics as metrics\n",
    "\n",
    "from datetime import datetime\n",
    "import tensorflow as tf\n",
    "tf.compat.v1.disable_eager_execution()\n",
    "from tensorflow.keras.models import load_model\n",
    "from tensorflow.keras.layers import Lambda, Input, Dense\n",
    "from tensorflow.keras.losses import mse, binary_crossentropy, kl_divergence\n",
    "from tensorflow.keras import optimizers\n",
    "from tensorflow.keras import backend as K\n",
    "from sklearn.preprocessing import MinMaxScaler, PowerTransformer\n",
    "from sklearn.manifold import TSNE\n",
    "from sklearn import preprocessing\n",
    "from sklearn.decomposition import PCA \n",
    "from tensorflow.keras.models import Model\n",
    "from sklearn import metrics\n",
    "from sklearn.naive_bayes import GaussianNB\n",
    "from sklearn.metrics import make_scorer, roc_auc_score\n",
    "import scipy\n",
    "from scipy import stats\n",
    "import warnings\n",
    "warnings.filterwarnings(\"ignore\")\n",
    "from sklearn.preprocessing import StandardScaler, Normalizer\n",
    "import os \n",
    "import warnings\n",
    "import gc\n",
    "from plotly.subplots import make_subplots\n",
    "import plotly.express as px \n",
    "import plotly.graph_objects as go\n",
    "from sklearn.preprocessing import LabelEncoder, OneHotEncoder\n",
    "from sklearn.model_selection import train_test_split, KFold\n",
    "from sklearn.metrics import precision_recall_fscore_support, classification_report\n",
    "import sys\n",
    "import keras\n",
    "import sklearn\n",
    "from keras.models import Sequential\n",
    "from keras.layers import Dense, Dropout, Activation, Embedding, Flatten\n",
    "from keras.layers import LSTM, SimpleRNN, GRU, Bidirectional, BatchNormalization,Convolution1D,MaxPooling1D, Reshape, GlobalAveragePooling1D\n",
    "from keras.utils import to_categorical\n",
    "import sklearn.preprocessing\n",
    "from sklearn import metrics\n",
    "from scipy.stats import zscore\n",
    "from tensorflow.keras.utils import get_file, plot_model\n",
    "from sklearn.model_selection import train_test_split\n",
    "from tensorflow.keras.callbacks import EarlyStopping\n",
    "from sklearn.compose import ColumnTransformer\n",
    "from sklearn.preprocessing import MinMaxScaler\n",
    "from imblearn.over_sampling import SMOTE\n",
    "from sklearn.model_selection import GridSearchCV\n",
    "from keras.layers import  MaxPool1D, Conv1D\n",
    "from keras.optimizers import Adam\n",
    "from keras.callbacks import ModelCheckpoint"
   ]
  },
  {
   "cell_type": "code",
   "execution_count": 2,
   "id": "e1608704",
   "metadata": {},
   "outputs": [],
   "source": [
    "#To show evaluation metrices: classification report, F/P, F/N\n",
    "def report_heatmap(y_pred,y_test):\n",
    "    \n",
    "    # overall accuracy \n",
    "    acc = accuracy_score(y_test, y_pred)\n",
    "    print( f'Overall Accuracy: {acc*100:.2f}%' )\n",
    "    print(\"--------------------------\")    \n",
    "    \n",
    "    # report\n",
    "    print(classification_report(y_test, y_pred))\n",
    "    figsize=(8,5)\n",
    "    #y_pred = y_pred.astype(int)\n",
    "    cm = confusion_matrix(y_test, y_pred, labels=np.unique(y_test))\n",
    "    cm_sum = np.sum(cm, axis=1, keepdims=True)\n",
    "    cm_perc = cm / cm_sum.astype(float) * 100\n",
    "    annot = np.empty_like(cm).astype(str)\n",
    "    nrows, ncols = cm.shape\n",
    "    for i in range(nrows):\n",
    "        for j in range(ncols):\n",
    "            c = cm[i, j]\n",
    "            p = cm_perc[i, j]\n",
    "            if i == j:\n",
    "                s = cm_sum[i]\n",
    "                annot[i, j] = '%.1f%%\\n%d/%d' % (p, c, s)\n",
    "            elif c == 0:\n",
    "                annot[i, j] = ''\n",
    "            else:\n",
    "                annot[i, j] = '%.1f%%\\n%d' % (p, c)\n",
    "    cm = pd.DataFrame(cm, index=np.unique(y_test), columns=np.unique(y_test))\n",
    "    cm.index.name = 'Actual'\n",
    "    cm.columns.name = 'Predicted'\n",
    "    fig, ax = plt.subplots(figsize=figsize)\n",
    "    \n",
    "    sns.heatmap(cm, cmap= \"YlGnBu\", annot=annot, fmt='', ax=ax)"
   ]
  },
  {
   "cell_type": "code",
   "execution_count": 3,
   "id": "f285eae7",
   "metadata": {},
   "outputs": [],
   "source": [
    "columns=(['Destination_Port',\n",
    "'Flow_Duration',\n",
    "'Total_Fwd_Packets',\n",
    "'Total_Backward_Packets',\n",
    "'Total_Length_of_Fwd_Packets',\n",
    "'Total_Length_of_Bwd_Packets',\n",
    "'Fwd_Packet_Length_Max',\n",
    "'Fwd_Packet_Length_Min',\n",
    "'Fwd_Packet_Length_Mean',\n",
    "'Fwd_Packet_Length_Std',\n",
    "'Bwd_Packet_Length_Max',\n",
    "'Bwd_Packet_Length_Min',\n",
    "'Bwd_Packet_Length_Mean',\n",
    "'Bwd_Packet_Length_Std',\n",
    "'Flow_Bytes',\n",
    "'Flow_Packets',\n",
    "'Flow_IAT_Mean',\n",
    "'Flow_IAT_Std',\n",
    "'Flow_IAT_Max',\n",
    "'Flow_IAT_Min',\n",
    "'Fwd_IAT_Total',\n",
    "'Fwd_IAT_Mean',\n",
    "'Fwd_IAT_Std',\n",
    "'Fwd_IAT_Max',\n",
    "'Fwd_IAT_Min',\n",
    "'Bwd_IAT_Total',\n",
    "'Bwd_IAT_Mean',\n",
    "'Bwd_IAT_Std',\n",
    "'Bwd_IAT_Max',\n",
    "'Bwd_IAT_Min',\n",
    "'Fwd_PSH_Flags',\n",
    "'Bwd_PSH_Flags',\n",
    "'Fwd_URG_Flags',\n",
    "'Bwd_URG_Flags',\n",
    "'Fwd_Header_Length',\n",
    "'Bwd_Header_Length',\n",
    "'Fwd_Packets',\n",
    "'Bwd_Packets',\n",
    "'Min_Packet_Length',\n",
    "'Max_Packet_Length',\n",
    "'Packet_Length_Mean',\n",
    "'Packet_Length_Std',\n",
    "'Packet_Length_Variance',\n",
    "'FIN-Flag_Count',\n",
    "'SYN_Flag_Count',\n",
    "'RST_Flag_Count',\n",
    "'PSH_Flag_Count',\n",
    "'ACK_Flag_Count',\n",
    "'URG_Flag_Count',\n",
    "'CWE_Flag_Count',\n",
    "'ECE_Flag_Count',\n",
    "'Down/Up_Ratio',\n",
    "'Average_Packet_Size',\n",
    "'Avg_Fwd_Segment_Size',\n",
    "'Avg_Bwd_Segment_Size',\n",
    "'Fwd_Hea_er_Length_1',\n",
    "'Fwd_Avg-Bytes/Bulk',\n",
    "'Fwd_Avg_Packets/Bulk',\n",
    "'Fwd_Avg_Bulk Rate',\n",
    "'Bwd_Avg_Bytes/Bulk',\n",
    "'Bwd_Avg_Packets/Bulk',\n",
    "'Bwd_Avg_Bulk_Rate',\n",
    "'Subflow_Fwd_Packets',\n",
    "'Subflow_Fwd_Bytes',\n",
    "'Subflow_Bwd_Packets',\n",
    "'Subflow_Bwd_Bytes',\n",
    "'Init_Win_bytes_forward',\n",
    "'Init_Win_bytes_backward',\n",
    "'act_data_pkt_fwd',\n",
    "'min_seg_size_forward',\n",
    "'Active_Mean',\n",
    "'Active_Std',\n",
    "'Active_Max',\n",
    "'Active_Min',\n",
    "'Idle_Mean',\n",
    "'Idle_Std',\n",
    "'Idle_Max',\n",
    "'Idle_Min',\n",
    "'Label'])"
   ]
  },
  {
   "cell_type": "code",
   "execution_count": 4,
   "id": "c3c2f48d",
   "metadata": {},
   "outputs": [
    {
     "data": {
      "text/html": [
       "<div>\n",
       "<style scoped>\n",
       "    .dataframe tbody tr th:only-of-type {\n",
       "        vertical-align: middle;\n",
       "    }\n",
       "\n",
       "    .dataframe tbody tr th {\n",
       "        vertical-align: top;\n",
       "    }\n",
       "\n",
       "    .dataframe thead th {\n",
       "        text-align: right;\n",
       "    }\n",
       "</style>\n",
       "<table border=\"1\" class=\"dataframe\">\n",
       "  <thead>\n",
       "    <tr style=\"text-align: right;\">\n",
       "      <th></th>\n",
       "      <th>Destination Port</th>\n",
       "      <th>Flow Duration</th>\n",
       "      <th>Total Fwd Packets</th>\n",
       "      <th>Total Backward Packets</th>\n",
       "      <th>Total Length of Fwd Packets</th>\n",
       "      <th>Total Length of Bwd Packets</th>\n",
       "      <th>Fwd Packet Length Max</th>\n",
       "      <th>Fwd Packet Length Min</th>\n",
       "      <th>Fwd Packet Length Mean</th>\n",
       "      <th>Fwd Packet Length Std</th>\n",
       "      <th>...</th>\n",
       "      <th>min_seg_size_forward</th>\n",
       "      <th>Active Mean</th>\n",
       "      <th>Active Std</th>\n",
       "      <th>Active Max</th>\n",
       "      <th>Active Min</th>\n",
       "      <th>Idle Mean</th>\n",
       "      <th>Idle Std</th>\n",
       "      <th>Idle Max</th>\n",
       "      <th>Idle Min</th>\n",
       "      <th>Label</th>\n",
       "    </tr>\n",
       "  </thead>\n",
       "  <tbody>\n",
       "    <tr>\n",
       "      <th>0</th>\n",
       "      <td>54865</td>\n",
       "      <td>3</td>\n",
       "      <td>2</td>\n",
       "      <td>0</td>\n",
       "      <td>12</td>\n",
       "      <td>0</td>\n",
       "      <td>6</td>\n",
       "      <td>6</td>\n",
       "      <td>6.0</td>\n",
       "      <td>0.0</td>\n",
       "      <td>...</td>\n",
       "      <td>20</td>\n",
       "      <td>0.0</td>\n",
       "      <td>0.0</td>\n",
       "      <td>0</td>\n",
       "      <td>0</td>\n",
       "      <td>0.0</td>\n",
       "      <td>0.0</td>\n",
       "      <td>0</td>\n",
       "      <td>0</td>\n",
       "      <td>BENIGN</td>\n",
       "    </tr>\n",
       "    <tr>\n",
       "      <th>1</th>\n",
       "      <td>55054</td>\n",
       "      <td>109</td>\n",
       "      <td>1</td>\n",
       "      <td>1</td>\n",
       "      <td>6</td>\n",
       "      <td>6</td>\n",
       "      <td>6</td>\n",
       "      <td>6</td>\n",
       "      <td>6.0</td>\n",
       "      <td>0.0</td>\n",
       "      <td>...</td>\n",
       "      <td>20</td>\n",
       "      <td>0.0</td>\n",
       "      <td>0.0</td>\n",
       "      <td>0</td>\n",
       "      <td>0</td>\n",
       "      <td>0.0</td>\n",
       "      <td>0.0</td>\n",
       "      <td>0</td>\n",
       "      <td>0</td>\n",
       "      <td>BENIGN</td>\n",
       "    </tr>\n",
       "    <tr>\n",
       "      <th>2</th>\n",
       "      <td>55055</td>\n",
       "      <td>52</td>\n",
       "      <td>1</td>\n",
       "      <td>1</td>\n",
       "      <td>6</td>\n",
       "      <td>6</td>\n",
       "      <td>6</td>\n",
       "      <td>6</td>\n",
       "      <td>6.0</td>\n",
       "      <td>0.0</td>\n",
       "      <td>...</td>\n",
       "      <td>20</td>\n",
       "      <td>0.0</td>\n",
       "      <td>0.0</td>\n",
       "      <td>0</td>\n",
       "      <td>0</td>\n",
       "      <td>0.0</td>\n",
       "      <td>0.0</td>\n",
       "      <td>0</td>\n",
       "      <td>0</td>\n",
       "      <td>BENIGN</td>\n",
       "    </tr>\n",
       "    <tr>\n",
       "      <th>3</th>\n",
       "      <td>46236</td>\n",
       "      <td>34</td>\n",
       "      <td>1</td>\n",
       "      <td>1</td>\n",
       "      <td>6</td>\n",
       "      <td>6</td>\n",
       "      <td>6</td>\n",
       "      <td>6</td>\n",
       "      <td>6.0</td>\n",
       "      <td>0.0</td>\n",
       "      <td>...</td>\n",
       "      <td>20</td>\n",
       "      <td>0.0</td>\n",
       "      <td>0.0</td>\n",
       "      <td>0</td>\n",
       "      <td>0</td>\n",
       "      <td>0.0</td>\n",
       "      <td>0.0</td>\n",
       "      <td>0</td>\n",
       "      <td>0</td>\n",
       "      <td>BENIGN</td>\n",
       "    </tr>\n",
       "    <tr>\n",
       "      <th>4</th>\n",
       "      <td>54863</td>\n",
       "      <td>3</td>\n",
       "      <td>2</td>\n",
       "      <td>0</td>\n",
       "      <td>12</td>\n",
       "      <td>0</td>\n",
       "      <td>6</td>\n",
       "      <td>6</td>\n",
       "      <td>6.0</td>\n",
       "      <td>0.0</td>\n",
       "      <td>...</td>\n",
       "      <td>20</td>\n",
       "      <td>0.0</td>\n",
       "      <td>0.0</td>\n",
       "      <td>0</td>\n",
       "      <td>0</td>\n",
       "      <td>0.0</td>\n",
       "      <td>0.0</td>\n",
       "      <td>0</td>\n",
       "      <td>0</td>\n",
       "      <td>BENIGN</td>\n",
       "    </tr>\n",
       "  </tbody>\n",
       "</table>\n",
       "<p>5 rows × 79 columns</p>\n",
       "</div>"
      ],
      "text/plain": [
       "    Destination Port   Flow Duration   Total Fwd Packets  \\\n",
       "0              54865               3                   2   \n",
       "1              55054             109                   1   \n",
       "2              55055              52                   1   \n",
       "3              46236              34                   1   \n",
       "4              54863               3                   2   \n",
       "\n",
       "    Total Backward Packets  Total Length of Fwd Packets  \\\n",
       "0                        0                           12   \n",
       "1                        1                            6   \n",
       "2                        1                            6   \n",
       "3                        1                            6   \n",
       "4                        0                           12   \n",
       "\n",
       "    Total Length of Bwd Packets   Fwd Packet Length Max  \\\n",
       "0                             0                       6   \n",
       "1                             6                       6   \n",
       "2                             6                       6   \n",
       "3                             6                       6   \n",
       "4                             0                       6   \n",
       "\n",
       "    Fwd Packet Length Min   Fwd Packet Length Mean   Fwd Packet Length Std  \\\n",
       "0                       6                      6.0                     0.0   \n",
       "1                       6                      6.0                     0.0   \n",
       "2                       6                      6.0                     0.0   \n",
       "3                       6                      6.0                     0.0   \n",
       "4                       6                      6.0                     0.0   \n",
       "\n",
       "   ...   min_seg_size_forward  Active Mean   Active Std   Active Max  \\\n",
       "0  ...                     20          0.0          0.0            0   \n",
       "1  ...                     20          0.0          0.0            0   \n",
       "2  ...                     20          0.0          0.0            0   \n",
       "3  ...                     20          0.0          0.0            0   \n",
       "4  ...                     20          0.0          0.0            0   \n",
       "\n",
       "    Active Min  Idle Mean   Idle Std   Idle Max   Idle Min   Label  \n",
       "0            0        0.0        0.0          0          0  BENIGN  \n",
       "1            0        0.0        0.0          0          0  BENIGN  \n",
       "2            0        0.0        0.0          0          0  BENIGN  \n",
       "3            0        0.0        0.0          0          0  BENIGN  \n",
       "4            0        0.0        0.0          0          0  BENIGN  \n",
       "\n",
       "[5 rows x 79 columns]"
      ]
     },
     "execution_count": 4,
     "metadata": {},
     "output_type": "execute_result"
    }
   ],
   "source": [
    "df_DDoS = pd.read_csv('Friday-WorkingHours-Afternoon-DDos.pcap_ISCX.csv')\n",
    "df_DDoS.head()"
   ]
  },
  {
   "cell_type": "code",
   "execution_count": 5,
   "id": "585a76fa",
   "metadata": {},
   "outputs": [],
   "source": [
    "df_DDoS.columns=columns"
   ]
  },
  {
   "cell_type": "code",
   "execution_count": 6,
   "id": "49d23c4a",
   "metadata": {},
   "outputs": [
    {
     "data": {
      "text/html": [
       "<div>\n",
       "<style scoped>\n",
       "    .dataframe tbody tr th:only-of-type {\n",
       "        vertical-align: middle;\n",
       "    }\n",
       "\n",
       "    .dataframe tbody tr th {\n",
       "        vertical-align: top;\n",
       "    }\n",
       "\n",
       "    .dataframe thead th {\n",
       "        text-align: right;\n",
       "    }\n",
       "</style>\n",
       "<table border=\"1\" class=\"dataframe\">\n",
       "  <thead>\n",
       "    <tr style=\"text-align: right;\">\n",
       "      <th></th>\n",
       "      <th>Destination_Port</th>\n",
       "      <th>Flow_Duration</th>\n",
       "      <th>Total_Fwd_Packets</th>\n",
       "      <th>Total_Backward_Packets</th>\n",
       "      <th>Total_Length_of_Fwd_Packets</th>\n",
       "      <th>Total_Length_of_Bwd_Packets</th>\n",
       "      <th>Fwd_Packet_Length_Max</th>\n",
       "      <th>Fwd_Packet_Length_Min</th>\n",
       "      <th>Fwd_Packet_Length_Mean</th>\n",
       "      <th>Fwd_Packet_Length_Std</th>\n",
       "      <th>...</th>\n",
       "      <th>min_seg_size_forward</th>\n",
       "      <th>Active_Mean</th>\n",
       "      <th>Active_Std</th>\n",
       "      <th>Active_Max</th>\n",
       "      <th>Active_Min</th>\n",
       "      <th>Idle_Mean</th>\n",
       "      <th>Idle_Std</th>\n",
       "      <th>Idle_Max</th>\n",
       "      <th>Idle_Min</th>\n",
       "      <th>Label</th>\n",
       "    </tr>\n",
       "  </thead>\n",
       "  <tbody>\n",
       "    <tr>\n",
       "      <th>0</th>\n",
       "      <td>54865</td>\n",
       "      <td>3</td>\n",
       "      <td>2</td>\n",
       "      <td>0</td>\n",
       "      <td>12</td>\n",
       "      <td>0</td>\n",
       "      <td>6</td>\n",
       "      <td>6</td>\n",
       "      <td>6.0</td>\n",
       "      <td>0.0</td>\n",
       "      <td>...</td>\n",
       "      <td>20</td>\n",
       "      <td>0.0</td>\n",
       "      <td>0.0</td>\n",
       "      <td>0</td>\n",
       "      <td>0</td>\n",
       "      <td>0.0</td>\n",
       "      <td>0.0</td>\n",
       "      <td>0</td>\n",
       "      <td>0</td>\n",
       "      <td>BENIGN</td>\n",
       "    </tr>\n",
       "    <tr>\n",
       "      <th>1</th>\n",
       "      <td>55054</td>\n",
       "      <td>109</td>\n",
       "      <td>1</td>\n",
       "      <td>1</td>\n",
       "      <td>6</td>\n",
       "      <td>6</td>\n",
       "      <td>6</td>\n",
       "      <td>6</td>\n",
       "      <td>6.0</td>\n",
       "      <td>0.0</td>\n",
       "      <td>...</td>\n",
       "      <td>20</td>\n",
       "      <td>0.0</td>\n",
       "      <td>0.0</td>\n",
       "      <td>0</td>\n",
       "      <td>0</td>\n",
       "      <td>0.0</td>\n",
       "      <td>0.0</td>\n",
       "      <td>0</td>\n",
       "      <td>0</td>\n",
       "      <td>BENIGN</td>\n",
       "    </tr>\n",
       "    <tr>\n",
       "      <th>2</th>\n",
       "      <td>55055</td>\n",
       "      <td>52</td>\n",
       "      <td>1</td>\n",
       "      <td>1</td>\n",
       "      <td>6</td>\n",
       "      <td>6</td>\n",
       "      <td>6</td>\n",
       "      <td>6</td>\n",
       "      <td>6.0</td>\n",
       "      <td>0.0</td>\n",
       "      <td>...</td>\n",
       "      <td>20</td>\n",
       "      <td>0.0</td>\n",
       "      <td>0.0</td>\n",
       "      <td>0</td>\n",
       "      <td>0</td>\n",
       "      <td>0.0</td>\n",
       "      <td>0.0</td>\n",
       "      <td>0</td>\n",
       "      <td>0</td>\n",
       "      <td>BENIGN</td>\n",
       "    </tr>\n",
       "    <tr>\n",
       "      <th>3</th>\n",
       "      <td>46236</td>\n",
       "      <td>34</td>\n",
       "      <td>1</td>\n",
       "      <td>1</td>\n",
       "      <td>6</td>\n",
       "      <td>6</td>\n",
       "      <td>6</td>\n",
       "      <td>6</td>\n",
       "      <td>6.0</td>\n",
       "      <td>0.0</td>\n",
       "      <td>...</td>\n",
       "      <td>20</td>\n",
       "      <td>0.0</td>\n",
       "      <td>0.0</td>\n",
       "      <td>0</td>\n",
       "      <td>0</td>\n",
       "      <td>0.0</td>\n",
       "      <td>0.0</td>\n",
       "      <td>0</td>\n",
       "      <td>0</td>\n",
       "      <td>BENIGN</td>\n",
       "    </tr>\n",
       "    <tr>\n",
       "      <th>4</th>\n",
       "      <td>54863</td>\n",
       "      <td>3</td>\n",
       "      <td>2</td>\n",
       "      <td>0</td>\n",
       "      <td>12</td>\n",
       "      <td>0</td>\n",
       "      <td>6</td>\n",
       "      <td>6</td>\n",
       "      <td>6.0</td>\n",
       "      <td>0.0</td>\n",
       "      <td>...</td>\n",
       "      <td>20</td>\n",
       "      <td>0.0</td>\n",
       "      <td>0.0</td>\n",
       "      <td>0</td>\n",
       "      <td>0</td>\n",
       "      <td>0.0</td>\n",
       "      <td>0.0</td>\n",
       "      <td>0</td>\n",
       "      <td>0</td>\n",
       "      <td>BENIGN</td>\n",
       "    </tr>\n",
       "  </tbody>\n",
       "</table>\n",
       "<p>5 rows × 79 columns</p>\n",
       "</div>"
      ],
      "text/plain": [
       "   Destination_Port  Flow_Duration  Total_Fwd_Packets  Total_Backward_Packets  \\\n",
       "0             54865              3                  2                       0   \n",
       "1             55054            109                  1                       1   \n",
       "2             55055             52                  1                       1   \n",
       "3             46236             34                  1                       1   \n",
       "4             54863              3                  2                       0   \n",
       "\n",
       "   Total_Length_of_Fwd_Packets  Total_Length_of_Bwd_Packets  \\\n",
       "0                           12                            0   \n",
       "1                            6                            6   \n",
       "2                            6                            6   \n",
       "3                            6                            6   \n",
       "4                           12                            0   \n",
       "\n",
       "   Fwd_Packet_Length_Max  Fwd_Packet_Length_Min  Fwd_Packet_Length_Mean  \\\n",
       "0                      6                      6                     6.0   \n",
       "1                      6                      6                     6.0   \n",
       "2                      6                      6                     6.0   \n",
       "3                      6                      6                     6.0   \n",
       "4                      6                      6                     6.0   \n",
       "\n",
       "   Fwd_Packet_Length_Std  ...  min_seg_size_forward  Active_Mean  Active_Std  \\\n",
       "0                    0.0  ...                    20          0.0         0.0   \n",
       "1                    0.0  ...                    20          0.0         0.0   \n",
       "2                    0.0  ...                    20          0.0         0.0   \n",
       "3                    0.0  ...                    20          0.0         0.0   \n",
       "4                    0.0  ...                    20          0.0         0.0   \n",
       "\n",
       "   Active_Max  Active_Min  Idle_Mean  Idle_Std  Idle_Max  Idle_Min   Label  \n",
       "0           0           0        0.0       0.0         0         0  BENIGN  \n",
       "1           0           0        0.0       0.0         0         0  BENIGN  \n",
       "2           0           0        0.0       0.0         0         0  BENIGN  \n",
       "3           0           0        0.0       0.0         0         0  BENIGN  \n",
       "4           0           0        0.0       0.0         0         0  BENIGN  \n",
       "\n",
       "[5 rows x 79 columns]"
      ]
     },
     "execution_count": 6,
     "metadata": {},
     "output_type": "execute_result"
    }
   ],
   "source": [
    "df_DDoS.head()"
   ]
  },
  {
   "cell_type": "code",
   "execution_count": 7,
   "id": "6fd86db6",
   "metadata": {},
   "outputs": [
    {
     "data": {
      "text/plain": [
       "(225745, 79)"
      ]
     },
     "execution_count": 7,
     "metadata": {},
     "output_type": "execute_result"
    }
   ],
   "source": [
    "df_DDoS.shape"
   ]
  },
  {
   "cell_type": "code",
   "execution_count": 8,
   "id": "00aa079d",
   "metadata": {},
   "outputs": [
    {
     "data": {
      "text/plain": [
       "Destination_Port               0\n",
       "Flow_Duration                  0\n",
       "Total_Fwd_Packets              0\n",
       "Total_Backward_Packets         0\n",
       "Total_Length_of_Fwd_Packets    0\n",
       "Total_Length_of_Bwd_Packets    0\n",
       "Fwd_Packet_Length_Max          0\n",
       "Fwd_Packet_Length_Min          0\n",
       "Fwd_Packet_Length_Mean         0\n",
       "Fwd_Packet_Length_Std          0\n",
       "Bwd_Packet_Length_Max          0\n",
       "Bwd_Packet_Length_Min          0\n",
       "Bwd_Packet_Length_Mean         0\n",
       "Bwd_Packet_Length_Std          0\n",
       "Flow_Bytes                     4\n",
       "Flow_Packets                   0\n",
       "Flow_IAT_Mean                  0\n",
       "Flow_IAT_Std                   0\n",
       "Flow_IAT_Max                   0\n",
       "Flow_IAT_Min                   0\n",
       "Fwd_IAT_Total                  0\n",
       "Fwd_IAT_Mean                   0\n",
       "Fwd_IAT_Std                    0\n",
       "Fwd_IAT_Max                    0\n",
       "Fwd_IAT_Min                    0\n",
       "Bwd_IAT_Total                  0\n",
       "Bwd_IAT_Mean                   0\n",
       "Bwd_IAT_Std                    0\n",
       "Bwd_IAT_Max                    0\n",
       "Bwd_IAT_Min                    0\n",
       "Fwd_PSH_Flags                  0\n",
       "Bwd_PSH_Flags                  0\n",
       "Fwd_URG_Flags                  0\n",
       "Bwd_URG_Flags                  0\n",
       "Fwd_Header_Length              0\n",
       "Bwd_Header_Length              0\n",
       "Fwd_Packets                    0\n",
       "Bwd_Packets                    0\n",
       "Min_Packet_Length              0\n",
       "Max_Packet_Length              0\n",
       "dtype: int64"
      ]
     },
     "execution_count": 8,
     "metadata": {},
     "output_type": "execute_result"
    }
   ],
   "source": [
    "df_DDoS.iloc[:,0:40].isna().sum()"
   ]
  },
  {
   "cell_type": "code",
   "execution_count": 9,
   "id": "e8c10e72",
   "metadata": {},
   "outputs": [
    {
     "data": {
      "text/plain": [
       "Max_Packet_Length          0\n",
       "Packet_Length_Mean         0\n",
       "Packet_Length_Std          0\n",
       "Packet_Length_Variance     0\n",
       "FIN-Flag_Count             0\n",
       "SYN_Flag_Count             0\n",
       "RST_Flag_Count             0\n",
       "PSH_Flag_Count             0\n",
       "ACK_Flag_Count             0\n",
       "URG_Flag_Count             0\n",
       "CWE_Flag_Count             0\n",
       "ECE_Flag_Count             0\n",
       "Down/Up_Ratio              0\n",
       "Average_Packet_Size        0\n",
       "Avg_Fwd_Segment_Size       0\n",
       "Avg_Bwd_Segment_Size       0\n",
       "Fwd_Hea_er_Length_1        0\n",
       "Fwd_Avg-Bytes/Bulk         0\n",
       "Fwd_Avg_Packets/Bulk       0\n",
       "Fwd_Avg_Bulk Rate          0\n",
       "Bwd_Avg_Bytes/Bulk         0\n",
       "Bwd_Avg_Packets/Bulk       0\n",
       "Bwd_Avg_Bulk_Rate          0\n",
       "Subflow_Fwd_Packets        0\n",
       "Subflow_Fwd_Bytes          0\n",
       "Subflow_Bwd_Packets        0\n",
       "Subflow_Bwd_Bytes          0\n",
       "Init_Win_bytes_forward     0\n",
       "Init_Win_bytes_backward    0\n",
       "act_data_pkt_fwd           0\n",
       "min_seg_size_forward       0\n",
       "Active_Mean                0\n",
       "Active_Std                 0\n",
       "Active_Max                 0\n",
       "Active_Min                 0\n",
       "Idle_Mean                  0\n",
       "Idle_Std                   0\n",
       "Idle_Max                   0\n",
       "Idle_Min                   0\n",
       "Label                      0\n",
       "dtype: int64"
      ]
     },
     "execution_count": 9,
     "metadata": {},
     "output_type": "execute_result"
    }
   ],
   "source": [
    "df_DDoS.iloc[:,39:80].isna().sum()"
   ]
  },
  {
   "cell_type": "code",
   "execution_count": 10,
   "id": "a86a76ff",
   "metadata": {},
   "outputs": [],
   "source": [
    "df_DDoS = df_DDoS.dropna(axis = 0, how ='any') "
   ]
  },
  {
   "cell_type": "code",
   "execution_count": 11,
   "id": "f51b8d71",
   "metadata": {},
   "outputs": [
    {
     "data": {
      "text/plain": [
       "False"
      ]
     },
     "execution_count": 11,
     "metadata": {},
     "output_type": "execute_result"
    }
   ],
   "source": [
    "df_DDoS.isnull().sum().any()"
   ]
  },
  {
   "cell_type": "code",
   "execution_count": 12,
   "id": "3499d0b9",
   "metadata": {},
   "outputs": [
    {
     "data": {
      "text/plain": [
       "(225741, 79)"
      ]
     },
     "execution_count": 12,
     "metadata": {},
     "output_type": "execute_result"
    }
   ],
   "source": [
    "df_DDoS.shape"
   ]
  },
  {
   "cell_type": "code",
   "execution_count": 13,
   "id": "7d62e3e3",
   "metadata": {},
   "outputs": [
    {
     "data": {
      "text/plain": [
       "DDoS      128027\n",
       "BENIGN     97714\n",
       "Name: Label, dtype: int64"
      ]
     },
     "execution_count": 13,
     "metadata": {},
     "output_type": "execute_result"
    }
   ],
   "source": [
    "df_DDoS['Label'].value_counts()"
   ]
  },
  {
   "cell_type": "code",
   "execution_count": 14,
   "id": "08913a8c",
   "metadata": {},
   "outputs": [
    {
     "data": {
      "text/plain": [
       "1    128027\n",
       "0     97714\n",
       "Name: Label, dtype: int64"
      ]
     },
     "execution_count": 14,
     "metadata": {},
     "output_type": "execute_result"
    }
   ],
   "source": [
    "# changing the target columns to binary\n",
    "df_DDoS['Label']=df_DDoS.Label.map(lambda a: 0 if a == 'BENIGN' else 1)\n",
    "df_DDoS['Label'].value_counts()"
   ]
  },
  {
   "cell_type": "code",
   "execution_count": 15,
   "id": "939827d0",
   "metadata": {},
   "outputs": [
    {
     "data": {
      "text/plain": [
       "<AxesSubplot:xlabel='Label', ylabel='count'>"
      ]
     },
     "execution_count": 15,
     "metadata": {},
     "output_type": "execute_result"
    },
    {
     "data": {
      "image/png": "[encoded data removed]",
      "text/plain": [
       "<Figure size 640x480 with 1 Axes>"
      ]
     },
     "metadata": {},
     "output_type": "display_data"
    }
   ],
   "source": [
    "sns.countplot(x='Label', data=df_DDoS, palette='Set2')"
   ]
  },
  {
   "cell_type": "code",
   "execution_count": 16,
   "id": "45e16b60",
   "metadata": {},
   "outputs": [],
   "source": [
    "# Selecting top 20 relevant columns: UFS, RFE and RFE(CV)\n",
    "\n",
    "UFS_selected_columns1= ['Destination_Port', 'Flow_Duration', 'Total_Fwd_Packets',\n",
    "       'Total_Backward_Packets', 'Total_Length_of_Fwd_Packets',\n",
    "       'Total_Length_of_Bwd_Packets', 'Fwd_Packet_Length_Max',\n",
    "       'Fwd_Packet_Length_Min', 'Fwd_Packet_Length_Mean',\n",
    "       'Fwd_Packet_Length_Std', 'Bwd_Packet_Length_Max',\n",
    "       'Bwd_Packet_Length_Min', 'Bwd_Packet_Length_Mean',\n",
    "       'Bwd_Packet_Length_Std', 'Flow_IAT_Mean', 'Flow_IAT_Std',\n",
    "       'Flow_IAT_Max', 'Flow_IAT_Min', 'Fwd_IAT_Total', 'Fwd_IAT_Mean','Label']\n",
    "\n",
    "df_UFS1 = df_DDoS[UFS_selected_columns1]"
   ]
  },
  {
   "cell_type": "code",
   "execution_count": 17,
   "id": "8df2c121",
   "metadata": {},
   "outputs": [],
   "source": [
    "# Selecting top 10 relevant columns: : UFS, RFE and RFE(CV)\n",
    "UFS_selected_columns2=['Destination_Port', 'Total_Fwd_Packets','Total_Length_of_Fwd_Packets','Total_Length_of_Bwd_Packets',\n",
    " 'Fwd_Packet_Length_Max', 'Fwd_Packet_Length_Mean','Fwd_Packet_Length_Std','Bwd_Packet_Length_Max',\n",
    " 'Bwd_Packet_Length_Min', 'Bwd_Packet_Length_Mean','Label'] \n",
    "df_UFS2 = df_DDoS[UFS_selected_columns2]"
   ]
  },
  {
   "cell_type": "code",
   "execution_count": 18,
   "id": "fc2e9e0c",
   "metadata": {},
   "outputs": [
    {
     "name": "stdout",
     "output_type": "stream",
     "text": [
      "<class 'pandas.core.frame.DataFrame'>\n",
      "Int64Index: 225741 entries, 0 to 225744\n",
      "Data columns (total 21 columns):\n",
      " #   Column                       Non-Null Count   Dtype  \n",
      "---  ------                       --------------   -----  \n",
      " 0   Destination_Port             225741 non-null  int64  \n",
      " 1   Flow_Duration                225741 non-null  int64  \n",
      " 2   Total_Fwd_Packets            225741 non-null  int64  \n",
      " 3   Total_Backward_Packets       225741 non-null  int64  \n",
      " 4   Total_Length_of_Fwd_Packets  225741 non-null  int64  \n",
      " 5   Total_Length_of_Bwd_Packets  225741 non-null  int64  \n",
      " 6   Fwd_Packet_Length_Max        225741 non-null  int64  \n",
      " 7   Fwd_Packet_Length_Min        225741 non-null  int64  \n",
      " 8   Fwd_Packet_Length_Mean       225741 non-null  float64\n",
      " 9   Fwd_Packet_Length_Std        225741 non-null  float64\n",
      " 10  Bwd_Packet_Length_Max        225741 non-null  int64  \n",
      " 11  Bwd_Packet_Length_Min        225741 non-null  int64  \n",
      " 12  Bwd_Packet_Length_Mean       225741 non-null  float64\n",
      " 13  Bwd_Packet_Length_Std        225741 non-null  float64\n",
      " 14  Flow_IAT_Mean                225741 non-null  float64\n",
      " 15  Flow_IAT_Std                 225741 non-null  float64\n",
      " 16  Flow_IAT_Max                 225741 non-null  int64  \n",
      " 17  Flow_IAT_Min                 225741 non-null  int64  \n",
      " 18  Fwd_IAT_Total                225741 non-null  int64  \n",
      " 19  Fwd_IAT_Mean                 225741 non-null  float64\n",
      " 20  Label                        225741 non-null  int64  \n",
      "dtypes: float64(7), int64(14)\n",
      "memory usage: 37.9 MB\n"
     ]
    }
   ],
   "source": [
    "df_UFS1.info()"
   ]
  },
  {
   "cell_type": "markdown",
   "id": "94a93860",
   "metadata": {},
   "source": [
    "# Models Predictions using top relevant 20 Features"
   ]
  },
  {
   "cell_type": "code",
   "execution_count": 20,
   "id": "fe0c48ad",
   "metadata": {},
   "outputs": [
    {
     "name": "stdout",
     "output_type": "stream",
     "text": [
      "Train Shape:  (180592, 20)\n",
      "Test Shape:  (45149, 20)\n",
      "1    102389\n",
      "0    102389\n",
      "Name: Label, dtype: int64\n"
     ]
    }
   ],
   "source": [
    "# label col\n",
    "Y_UFS1 = df_UFS1.Label\n",
    "\n",
    "# independant variable\n",
    "X_UFS1 = df_UFS1.drop(columns = [\"Label\"] )\n",
    "\n",
    "# Create a classic train-test split \n",
    "X_train, X_test, Y_train, Y_test = train_test_split(X_UFS1, Y_UFS1, test_size=0.20, random_state=101)\n",
    "\n",
    "print(\"Train Shape: \",X_train.shape)\n",
    "print(\"Test Shape: \",X_test.shape)\n",
    "\n",
    "# Over-sampling\n",
    "balance =  SMOTE(random_state=42)\n",
    "\n",
    "#fitting\n",
    "x_over_balanced, y_over_balanced = balance.fit_resample(X_train,Y_train)\n",
    "# Scaling\n",
    "scaler = MinMaxScaler()\n",
    "sX_train = scaler.fit_transform(x_over_balanced)\n",
    "sX_test = scaler.transform(X_test)\n",
    "print(y_over_balanced.value_counts())"
   ]
  },
  {
   "cell_type": "code",
   "execution_count": 22,
   "id": "073bb471",
   "metadata": {},
   "outputs": [],
   "source": [
    "lr=LogisticRegression(penalty='l1', C=0.1, solver='saga', max_iter=100)\n",
    "dt=DecisionTreeClassifier()\n",
    "rm=RandomForestClassifier()\n",
    "gnb=GaussianNB()"
   ]
  },
  {
   "cell_type": "code",
   "execution_count": 23,
   "id": "c4a7e1a1",
   "metadata": {},
   "outputs": [
    {
     "name": "stdout",
     "output_type": "stream",
     "text": [
      "[Logistic Regression] training data accuracy is : 0.980457\n",
      "[Logistic Regression] test data accuracy is : 0.982303\n",
      "[Decision Tree] training data accuracy is : 0.999956\n",
      "[Decision Tree] test data accuracy is : 0.999646\n",
      "[Random Forest] training data accuracy is : 0.999956\n",
      "[Random Forest] test data accuracy is : 0.999823\n",
      "[Naive Bayes] training data accuracy is : 0.960465\n",
      "[Naive Bayes] test data accuracy is : 0.966400\n"
     ]
    }
   ],
   "source": [
    "for a,b in zip([lr,dt,rm,gnb],[\"Logistic Regression\",\"Decision Tree\",\"Random Forest\",\"Naive Bayes\"]):\n",
    "    a.fit(sX_train,y_over_balanced)\n",
    "    prediction=a.predict(sX_train)\n",
    "    y_pred=a.predict(sX_test)\n",
    "    score1=accuracy_score(y_over_balanced,prediction)\n",
    "    score=accuracy_score(Y_test,y_pred)\n",
    "    msg1=\"[%s] training data accuracy is : %f\" % (b,score1)\n",
    "    msg2=\"[%s] test data accuracy is : %f\" % (b,score)\n",
    "    print(msg1)\n",
    "    print(msg2)"
   ]
  },
  {
   "cell_type": "code",
   "execution_count": 24,
   "id": "a7a0bac2",
   "metadata": {},
   "outputs": [
    {
     "name": "stdout",
     "output_type": "stream",
     "text": [
      "Overall Accuracy: 99.96%\n",
      "--------------------------\n",
      "              precision    recall  f1-score   support\n",
      "\n",
      "           0       1.00      1.00      1.00     19511\n",
      "           1       1.00      1.00      1.00     25638\n",
      "\n",
      "    accuracy                           1.00     45149\n",
      "   macro avg       1.00      1.00      1.00     45149\n",
      "weighted avg       1.00      1.00      1.00     45149\n",
      "\n"
     ]
    },
    {
     "data": {
      "image/png": "[encoded data removed]",
      "text/plain": [
       "<Figure size 800x500 with 2 Axes>"
      ]
     },
     "metadata": {},
     "output_type": "display_data"
    }
   ],
   "source": [
    "y_pred = dt.predict(sX_test)\n",
    "\n",
    "report_heatmap(y_pred,Y_test)"
   ]
  },
  {
   "cell_type": "code",
   "execution_count": 25,
   "id": "3b84d72d",
   "metadata": {},
   "outputs": [
    {
     "name": "stdout",
     "output_type": "stream",
     "text": [
      "Overall Accuracy: 99.98%\n",
      "--------------------------\n",
      "              precision    recall  f1-score   support\n",
      "\n",
      "           0       1.00      1.00      1.00     19511\n",
      "           1       1.00      1.00      1.00     25638\n",
      "\n",
      "    accuracy                           1.00     45149\n",
      "   macro avg       1.00      1.00      1.00     45149\n",
      "weighted avg       1.00      1.00      1.00     45149\n",
      "\n"
     ]
    },
    {
     "data": {
      "image/png": "[encoded data removed]",
      "text/plain": [
       "<Figure size 800x500 with 2 Axes>"
      ]
     },
     "metadata": {},
     "output_type": "display_data"
    }
   ],
   "source": [
    "#Selected\n",
    "y_pred = rm.predict(sX_test)\n",
    "\n",
    "report_heatmap(y_pred,Y_test)"
   ]
  },
  {
   "cell_type": "markdown",
   "id": "4ad5db99",
   "metadata": {},
   "source": [
    "Deep Neural Networks"
   ]
  },
  {
   "cell_type": "code",
   "execution_count": 28,
   "id": "58ed3b17",
   "metadata": {},
   "outputs": [
    {
     "name": "stdout",
     "output_type": "stream",
     "text": [
      "Model: \"sequential_2\"\n",
      "_________________________________________________________________\n",
      " Layer (type)                Output Shape              Param #   \n",
      "=================================================================\n",
      " dense_2 (Dense)             (None, 20)                420       \n",
      "                                                                 \n",
      " dense_3 (Dense)             (None, 10)                210       \n",
      "                                                                 \n",
      " dense_4 (Dense)             (None, 1)                 11        \n",
      "                                                                 \n",
      "=================================================================\n",
      "Total params: 641\n",
      "Trainable params: 641\n",
      "Non-trainable params: 0\n",
      "_________________________________________________________________\n",
      "Train on 204778 samples\n",
      "Epoch 1/2\n",
      "204778/204778 [==============================] - 5s 24us/sample - loss: 0.1513 - accuracy: 0.9471\n",
      "Epoch 2/2\n",
      "204778/204778 [==============================] - 4s 20us/sample - loss: 0.0642 - accuracy: 0.9833\n"
     ]
    },
    {
     "data": {
      "text/plain": [
       "<keras.callbacks.History at 0x11a9e456be0>"
      ]
     },
     "execution_count": 28,
     "metadata": {},
     "output_type": "execute_result"
    }
   ],
   "source": [
    "model = Sequential()\n",
    "model.add(Dense(20, activation='relu', input_shape=(sX_train.shape[1],)))\n",
    "\n",
    "model.add(Dense(10, activation='relu'))\n",
    "model.add(Dense(1, activation='sigmoid'))\n",
    "\n",
    "model.compile(loss='binary_crossentropy',\n",
    "              optimizer=Adam(),\n",
    "              metrics=['accuracy'])\n",
    "model.summary()\n",
    "model.fit(sX_train,y_over_balanced,batch_size=100,epochs=2)"
   ]
  },
  {
   "cell_type": "code",
   "execution_count": 30,
   "id": "11eb5ae7",
   "metadata": {},
   "outputs": [
    {
     "name": "stdout",
     "output_type": "stream",
     "text": [
      "Overall Accuracy: 98.47%\n",
      "--------------------------\n",
      "              precision    recall  f1-score   support\n",
      "\n",
      "           0       0.98      0.99      0.98     19511\n",
      "           1       0.99      0.98      0.99     25638\n",
      "\n",
      "    accuracy                           0.98     45149\n",
      "   macro avg       0.98      0.99      0.98     45149\n",
      "weighted avg       0.98      0.98      0.98     45149\n",
      "\n"
     ]
    },
    {
     "data": {
      "image/png": "[encoded data removed]",
      "text/plain": [
       "<Figure size 800x500 with 2 Axes>"
      ]
     },
     "metadata": {},
     "output_type": "display_data"
    }
   ],
   "source": [
    "# Predictions  \n",
    "y_pred=(model.predict(sX_test)> 0.5)\n",
    "\n",
    "# display report\n",
    "report_heatmap(y_pred,Y_test) "
   ]
  },
  {
   "cell_type": "markdown",
   "id": "9da422d5",
   "metadata": {},
   "source": [
    "# Models Predictions using top relevant 10 Features"
   ]
  },
  {
   "cell_type": "code",
   "execution_count": 31,
   "id": "502d3247",
   "metadata": {},
   "outputs": [
    {
     "name": "stdout",
     "output_type": "stream",
     "text": [
      "Train Shape:  (180592, 10)\n",
      "Test Shape:  (45149, 10)\n",
      "1    102389\n",
      "0    102389\n",
      "Name: Label, dtype: int64\n"
     ]
    }
   ],
   "source": [
    "# label col\n",
    "Y_UFS2 = df_UFS2.Label\n",
    "\n",
    "# independant variable\n",
    "X_UFS2 = df_UFS2.drop(columns = [\"Label\"] )\n",
    "\n",
    "# Create a classic train-test split \n",
    "X_train, X_test, Y_train, Y_test = train_test_split(X_UFS2, Y_UFS2, test_size=0.20, random_state=101)\n",
    "\n",
    "print(\"Train Shape: \",X_train.shape)\n",
    "print(\"Test Shape: \",X_test.shape)\n",
    "\n",
    "# Over-sampling\n",
    "balance =  SMOTE(random_state=42)\n",
    "\n",
    "#fitting\n",
    "x_over_balanced, y_over_balanced = balance.fit_resample(X_train,Y_train)\n",
    "# Scaling\n",
    "scaler = MinMaxScaler()\n",
    "sX_train = scaler.fit_transform(x_over_balanced)\n",
    "sX_test = scaler.transform(X_test)\n",
    "print(y_over_balanced.value_counts())"
   ]
  },
  {
   "cell_type": "code",
   "execution_count": 33,
   "id": "1f271846",
   "metadata": {},
   "outputs": [],
   "source": [
    "lr=LogisticRegression(penalty='l1', C=0.1, solver='saga', max_iter=100)\n",
    "dt=DecisionTreeClassifier()\n",
    "rm=RandomForestClassifier()\n",
    "gnb=GaussianNB()"
   ]
  },
  {
   "cell_type": "code",
   "execution_count": 34,
   "id": "0658c752",
   "metadata": {},
   "outputs": [
    {
     "name": "stdout",
     "output_type": "stream",
     "text": [
      "[Logistic Regression] training data accuracy is : 0.959097\n",
      "[Logistic Regression] test data accuracy is : 0.965979\n",
      "[Decision Tree] training data accuracy is : 0.999477\n",
      "[Decision Tree] test data accuracy is : 0.999336\n",
      "[Random Forest] training data accuracy is : 0.999477\n",
      "[Random Forest] test data accuracy is : 0.999336\n",
      "[Naive Bayes] training data accuracy is : 0.959249\n",
      "[Naive Bayes] test data accuracy is : 0.965979\n"
     ]
    }
   ],
   "source": [
    "for a,b in zip([lr,dt,rm,gnb],[\"Logistic Regression\",\"Decision Tree\",\"Random Forest\",\"Naive Bayes\"]):\n",
    "    a.fit(sX_train,y_over_balanced)\n",
    "    prediction=a.predict(sX_train)\n",
    "    y_pred=a.predict(sX_test)\n",
    "    score1=accuracy_score(y_over_balanced,prediction)\n",
    "    score=accuracy_score(Y_test,y_pred)\n",
    "    msg1=\"[%s] training data accuracy is : %f\" % (b,score1)\n",
    "    msg2=\"[%s] test data accuracy is : %f\" % (b,score)\n",
    "    print(msg1)\n",
    "    print(msg2)"
   ]
  },
  {
   "cell_type": "code",
   "execution_count": 35,
   "id": "98f3d798",
   "metadata": {},
   "outputs": [
    {
     "name": "stdout",
     "output_type": "stream",
     "text": [
      "Overall Accuracy: 99.93%\n",
      "--------------------------\n",
      "              precision    recall  f1-score   support\n",
      "\n",
      "           0       1.00      1.00      1.00     19511\n",
      "           1       1.00      1.00      1.00     25638\n",
      "\n",
      "    accuracy                           1.00     45149\n",
      "   macro avg       1.00      1.00      1.00     45149\n",
      "weighted avg       1.00      1.00      1.00     45149\n",
      "\n"
     ]
    },
    {
     "data": {
      "image/png": "[encoded data removed]",
      "text/plain": [
       "<Figure size 800x500 with 2 Axes>"
      ]
     },
     "metadata": {},
     "output_type": "display_data"
    }
   ],
   "source": [
    "\n",
    "y_pred = dt.predict(sX_test)\n",
    "\n",
    "report_heatmap(y_pred,Y_test)"
   ]
  },
  {
   "cell_type": "code",
   "execution_count": 36,
   "id": "b66fa4be",
   "metadata": {},
   "outputs": [
    {
     "name": "stdout",
     "output_type": "stream",
     "text": [
      "Overall Accuracy: 99.93%\n",
      "--------------------------\n",
      "              precision    recall  f1-score   support\n",
      "\n",
      "           0       1.00      1.00      1.00     19511\n",
      "           1       1.00      1.00      1.00     25638\n",
      "\n",
      "    accuracy                           1.00     45149\n",
      "   macro avg       1.00      1.00      1.00     45149\n",
      "weighted avg       1.00      1.00      1.00     45149\n",
      "\n"
     ]
    },
    {
     "data": {
      "image/png": "[encoded data removed]",
      "text/plain": [
       "<Figure size 800x500 with 2 Axes>"
      ]
     },
     "metadata": {},
     "output_type": "display_data"
    }
   ],
   "source": [
    "y_pred = rm.predict(sX_test)\n",
    "\n",
    "report_heatmap(y_pred,Y_test)"
   ]
  },
  {
   "cell_type": "markdown",
   "id": "67257e97",
   "metadata": {},
   "source": [
    "Deep Neural Networks"
   ]
  },
  {
   "cell_type": "code",
   "execution_count": 40,
   "id": "86374588",
   "metadata": {},
   "outputs": [
    {
     "name": "stdout",
     "output_type": "stream",
     "text": [
      "Model: \"sequential_4\"\n",
      "_________________________________________________________________\n",
      " Layer (type)                Output Shape              Param #   \n",
      "=================================================================\n",
      " dense_8 (Dense)             (None, 20)                220       \n",
      "                                                                 \n",
      " dense_9 (Dense)             (None, 10)                210       \n",
      "                                                                 \n",
      " dense_10 (Dense)            (None, 1)                 11        \n",
      "                                                                 \n",
      "=================================================================\n",
      "Total params: 441\n",
      "Trainable params: 441\n",
      "Non-trainable params: 0\n",
      "_________________________________________________________________\n",
      "Train on 204778 samples\n",
      "Epoch 1/5\n",
      "204778/204778 [==============================] - 4s 20us/sample - loss: 0.2050 - accuracy: 0.9130\n",
      "Epoch 2/5\n",
      "204778/204778 [==============================] - 4s 18us/sample - loss: 0.1073 - accuracy: 0.9592\n",
      "Epoch 3/5\n",
      "204778/204778 [==============================] - 4s 19us/sample - loss: 0.0906 - accuracy: 0.9678\n",
      "Epoch 4/5\n",
      "204778/204778 [==============================] - 4s 18us/sample - loss: 0.0785 - accuracy: 0.9742\n",
      "Epoch 5/5\n",
      "204778/204778 [==============================] - 4s 18us/sample - loss: 0.0702 - accuracy: 0.9747\n"
     ]
    },
    {
     "data": {
      "text/plain": [
       "<keras.callbacks.History at 0x11a9e6744c0>"
      ]
     },
     "execution_count": 40,
     "metadata": {},
     "output_type": "execute_result"
    }
   ],
   "source": [
    "#Selected\n",
    "model = Sequential()\n",
    "model.add(Dense(20, activation='relu', input_shape=(sX_train.shape[1],)))\n",
    "\n",
    "model.add(Dense(10, activation='relu'))\n",
    "model.add(Dense(1, activation='sigmoid'))\n",
    "\n",
    "model.compile(loss='binary_crossentropy',\n",
    "              optimizer=Adam(),\n",
    "              metrics=['accuracy'])\n",
    "model.summary()\n",
    "model.fit(sX_train,y_over_balanced,batch_size=100,epochs=5)"
   ]
  },
  {
   "cell_type": "code",
   "execution_count": 41,
   "id": "389aba05",
   "metadata": {},
   "outputs": [
    {
     "name": "stdout",
     "output_type": "stream",
     "text": [
      "Overall Accuracy: 97.95%\n",
      "--------------------------\n",
      "              precision    recall  f1-score   support\n",
      "\n",
      "           0       1.00      0.95      0.98     19511\n",
      "           1       0.97      1.00      0.98     25638\n",
      "\n",
      "    accuracy                           0.98     45149\n",
      "   macro avg       0.98      0.98      0.98     45149\n",
      "weighted avg       0.98      0.98      0.98     45149\n",
      "\n"
     ]
    },
    {
     "data": {
      "image/png": "[encoded data removed]",
      "text/plain": [
       "<Figure size 800x500 with 2 Axes>"
      ]
     },
     "metadata": {},
     "output_type": "display_data"
    }
   ],
   "source": [
    "#Selected\n",
    "# Predictions  \n",
    "y_pred=(model.predict(sX_test)> 0.5)\n",
    "\n",
    "# display report\n",
    "report_heatmap(y_pred,Y_test) "
   ]
  },
  {
   "cell_type": "code",
   "execution_count": 39,
   "id": "c8a7a790",
   "metadata": {},
   "outputs": [],
   "source": [
    "#End"
   ]
  }
 ],
 "metadata": {
  "kernelspec": {
   "display_name": "Python 3 (ipykernel)",
   "language": "python",
   "name": "python3"
  },
  "language_info": {
   "codemirror_mode": {
    "name": "ipython",
    "version": 3
   },
   "file_extension": ".py",
   "mimetype": "text/x-python",
   "name": "python",
   "nbconvert_exporter": "python",
   "pygments_lexer": "ipython3",
   "version": "3.9.13"
  }
 },
 "nbformat": 4,
 "nbformat_minor": 5
}
